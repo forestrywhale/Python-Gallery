{
 "cells": [
  {
   "cell_type": "code",
   "execution_count": 3,
   "metadata": {},
   "outputs": [],
   "source": [
    "import matplotlib.pyplot as plt\n",
    "import numpy as np\n",
    "import matplotlib.mlab as mlab\n",
    "import matplotlib.gridspec as gridspec\n",
    "\n",
    "%matplotlib inline"
   ]
  },
  {
   "cell_type": "code",
   "execution_count": 9,
   "metadata": {},
   "outputs": [
    {
     "data": {
      "image/png": "[encoded data removed]",
      "text/plain": [
       "<Figure size 432x288 with 3 Axes>"
      ]
     },
     "metadata": {
      "needs_background": "light"
     },
     "output_type": "display_data"
    }
   ],
   "source": [
    "gs1 = gridspec.GridSpec(8, 2)\n",
    "gs1.update(left=0.12, right=.94, wspace=0.12)\n",
    "ax1 = plt.subplot(gs1[0:2, :])\n",
    "ax2 = plt.subplot(gs1[3:5, :], sharey=ax1)\n",
    "ax3 = plt.subplot(gs1[6:8, :], sharey=ax1)\n",
    "\n",
    "ax1.scatter(np.random.random(20), np.random.random(20), c = 'r', marker= '1')\n",
    "ax2.scatter(np.random.random(20), np.random.random(20), c = 'r', marker= '1')\n",
    "ax3.scatter(np.random.random(20), np.random.random(20), c = 'r', marker= '1')\n",
    "\n",
    "ax1.axhline(y=0.5,xmin=0,xmax=3,c=\"blue\",linewidth=0.5,zorder=0)    # horizontal line in subplots\n",
    "ax2.axhline(y=0.5,xmin=0,xmax=3,c=\"blue\",linewidth=0.5,zorder=0)\n",
    "ax3.axhline(y=0.5,xmin=0,xmax=3,c=\"blue\",linewidth=0.5,zorder=0)\n",
    "plt.savefig(\"HelpPlots/6_horizontal_line_subplot.pdf\", dpi = 200)\n",
    "plt.show()"
   ]
  },
  {
   "cell_type": "code",
   "execution_count": null,
   "metadata": {},
   "outputs": [],
   "source": []
  }
 ],
 "metadata": {
  "kernelspec": {
   "display_name": "Python 3",
   "language": "python",
   "name": "python3"
  },
  "language_info": {
   "codemirror_mode": {
    "name": "ipython",
    "version": 3
   },
   "file_extension": ".py",
   "mimetype": "text/x-python",
   "name": "python",
   "nbconvert_exporter": "python",
   "pygments_lexer": "ipython3",
   "version": "3.7.4"
  }
 },
 "nbformat": 4,
 "nbformat_minor": 2
}
